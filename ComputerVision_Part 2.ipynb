{
 "cells": [
  {
   "cell_type": "markdown",
   "metadata": {},
   "source": [
    "\n",
    "\n",
    "Why Neural Networks better than Supervised Learning?\n",
    "\n",
    "\n",
    "The Machine Learning model makes decisions according to what it has learned from the data, Neural Networks arranges algorithms in a fashion that it can make accurate decisions by themselves. \n",
    "\n",
    "Alhough Machine Learning models can learn from data, in the initial stages, they require some human intervention.\n",
    "\n",
    "Neural networks do not require human intervention as the nested layers within pass the data through hierarchies of various concepts, thus making them capable of learning through their errors.\n",
    "\n",
    "NNs can learn and model non-linear and complex relationships. It is critical in real-life because many of the relationships between inputs and outputs are non-linear and complex.\n",
    "\n",
    "Why CNN better than Neural Networks?\n",
    "\n",
    "The main advantage of CNN compared to NN is that it automatically detects the essential features without any human supervision. For example - given many pictures of cats and dogs, it can learn the key traits for each class by itself.\n",
    "\n",
    "CNN is better than a feed-forward network since CNN has features parameter sharing and dimensionality reduction. Because of parameter sharing in CNN, the number of parameters is decreased. Thus the computations also reduced.\n"
   ]
  }
 ],
 "metadata": {
  "kernelspec": {
   "display_name": "Python 3",
   "language": "python",
   "name": "python3"
  },
  "language_info": {
   "codemirror_mode": {
    "name": "ipython",
    "version": 3
   },
   "file_extension": ".py",
   "mimetype": "text/x-python",
   "name": "python",
   "nbconvert_exporter": "python",
   "pygments_lexer": "ipython3",
   "version": "3.7.6"
  }
 },
 "nbformat": 4,
 "nbformat_minor": 4
}
